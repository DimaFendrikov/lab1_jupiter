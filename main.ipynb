{
 "cells": [
  {
   "cell_type": "markdown",
   "metadata": {},
   "source": [
    "\n",
    "# **<font color='brown'>Огляд нa країну Гайана</font>**\n",
    "\n",
    "# *Гайана* - країна, розташована в Південній Америці.\n",
    "---\n",
    "\n",
    "<div style=\"border: 2px solid black; padding: 10px;\">\n",
    "\n",
    "-  ### **Площа Гаяни:** 214 969 км²\n",
    "-  ### **Населення Гаяни:** 751,223 осіб(станом на 2022 рік)\n",
    "-  ### **Державний устрій:** Парламентська республіка\n",
    "\n",
    "</div>\n",
    "\n",
    "---\n",
    "# Адміністративний поділ\n",
    "| Регіон|  Площа км² | Населення |\tНаселення на км²|\n",
    "|-------|---------|---------|---------|\n",
    "|1.[Барима-Вайні](https://uk.wikipedia.org/wiki/%D0%91%D0%B0%D1%80%D0%B8%D0%BC%D0%B0-%D0%92%D0%B0%D0%B9%D0%BD%D1%96)   |20,339|24,275|1.2|\n",
    "|2. [Померун-Супенаам](https://uk.wikipedia.org/wiki/%D0%9F%D0%BE%D0%BC%D0%B5%D1%80%D1%83%D0%BD-%D0%A1%D1%83%D0%BF%D0%B5%D0%BD%D0%B0%D0%B0%D0%BC) |6,195 |24,275|8.0|\n",
    "|3. [Острови Есекібо-Західна Демерара](https://uk.wikipedia.org/wiki/%D0%9E%D1%81%D1%82%D1%80%D0%BE%D0%B2%D0%B8_%D0%95%D1%81%D0%B5%D0%BA%D1%96%D0%B1%D0%BE-%D0%97%D0%B0%D1%85%D1%96%D0%B4%D0%BD%D0%B0_%D0%94%D0%B5%D0%BC%D0%B5%D1%80%D0%B0%D1%80%D0%B0) | 2,232|103,061|46.2|\n",
    "|4. [Демерара-Махайка](https://uk.wikipedia.org/wiki/%D0%94%D0%B5%D0%BC%D0%B5%D1%80%D0%B0%D1%80%D0%B0-%D0%9C%D0%B0%D1%85%D0%B0%D0%B9%D0%BA%D0%B0) |1,843 |310,32|168.4|\n",
    "|5. [Махайка-Бербіс](https://uk.wikipedia.org/wiki/%D0%9C%D0%B0%D1%85%D0%B0%D0%B9%D0%BA%D0%B0-%D0%91%D0%B5%D1%80%D0%B1%D1%96%D1%81)    |3,755 |52,428|14.0|\n",
    "|6. [Східний Бербіс-Корентайн](https://uk.wikipedia.org/wiki/%D0%A1%D1%85%D1%96%D0%B4%D0%BD%D0%B8%D0%B9_%D0%91%D0%B5%D1%80%D0%B1%D1%96%D1%81-%D0%9A%D0%BE%D1%80%D0%B5%D0%BD%D1%82%D0%B0%D0%B9%D0%BD) |36,234|123,695|3.4|\n",
    "|7. [Куюні-Мазаруні ](https://uk.wikipedia.org/wiki/%D0%9A%D1%83%D1%8E%D0%BD%D1%96-%D0%9C%D0%B0%D0%B7%D0%B0%D1%80%D1%83%D0%BD%D1%96)   |47,213|17,597|0.3|\n",
    "|8. [Потаро-Сипаруні](https://uk.wikipedia.org/wiki/%D0%9F%D0%BE%D1%82%D0%B0%D1%80%D0%BE-%D0%A1%D0%B8%D0%BF%D0%B0%D1%80%D1%83%D0%BD%D1%96)   |20,051|10,095|0.5|\n",
    "|9. [Верхнє Такуту-Верхня Есекібо](https://uk.wikipedia.org/wiki/%D0%92%D0%B5%D1%80%D1%85%D0%BD%D1%94_%D0%A2%D0%B0%D0%BA%D1%83%D1%82%D1%83-%D0%92%D0%B5%D1%80%D1%85%D0%BD%D1%8F_%D0%95%D1%81%D0%B5%D0%BA%D1%96%D0%B1%D0%BE)  |57,750|19,387|1.3|\n",
    "|10. [Верхня Демерара-Бербіс](https://uk.wikipedia.org/wiki/%D0%92%D0%B5%D1%80%D1%85%D0%BD%D1%8F_%D0%94%D0%B5%D0%BC%D0%B5%D1%80%D0%B0%D1%80%D0%B0-%D0%91%D0%B5%D1%80%D0%B1%D1%96%D1%81)  |19,387|41,112|2.1|\n",
    "\n",
    "# Пам'ятки\n",
    "\n",
    "## Культурні:\n",
    "\n",
    "- ### **Музей Уолтера Рота**: документує величезну колекцію предметів повсякденного користування, ремесла, їжі та культурних звичаїв захоплюючого племінного життя.\n",
    "\n",
    "![Старе місто Сент-Джордж](rota.jpg)\n",
    "\n",
    "- ### **Собор Святого Георгія**: До освящения в 2003 г. 75-метрового храма в Марамуреше джорджтаунский собор считался самой высокой в мире отдельно стоящей деревянной церковью.\n",
    "\n",
    "![Собор Святого Георгія](http://upload.wikimedia.org/wikipedia/commons/thumb/c/c8/St_George%27s_Georgetown_Exterior.JPG/1000px-St_George%27s_Georgetown_Exterior.JPG)"
   ]
  },
  {
   "cell_type": "code",
   "execution_count": 5,
   "metadata": {},
   "outputs": [
    {
     "data": {
      "text/html": [
       "<svg xmlns=\"http://www.w3.org/2000/svg\" width=\"900\" height=\"500\" viewBox=\"0 0 100 60\">\n",
       "\t<title>Flag of Guyana</title>\n",
       "\t<defs>\n",
       "\t\t<clipPath id=\"w\">\n",
       "\t\t\t<path d=\"m0 0 100 30L0 60z\"/>\n",
       "\t\t</clipPath>\n",
       "\t\t<clipPath id=\"b\">\n",
       "\t\t\t<path d=\"m0 0 50 30L0 60z\"/>\n",
       "\t\t</clipPath>\n",
       "\t</defs>\n",
       "\t<path fill=\"#009e49\" d=\"m0 0h100v60H0z\"/>\n",
       "\t<path clip-path=\"url(#w)\" fill=\"#fcd116\" stroke=\"#fff\" stroke-width=\"4\" d=\"m0 0 100 30L0 60\"/>\n",
       "\t<path clip-path=\"url(#b)\" fill=\"#ce1126\" stroke=\"#000\" stroke-width=\"6\" d=\"m0 0 50 30L0 60\"/>\n",
       "</svg>\n",
       "\n"
      ],
      "text/plain": [
       "<IPython.core.display.HTML object>"
      ]
     },
     "metadata": {},
     "output_type": "display_data"
    }
   ],
   "source": [
    "%%HTML\n",
    "<svg xmlns=\"http://www.w3.org/2000/svg\" width=\"900\" height=\"500\" viewBox=\"0 0 100 60\">\n",
    "\t<title>Flag of Guyana</title>\n",
    "\t<defs>\n",
    "\t\t<clipPath id=\"w\">\n",
    "\t\t\t<path d=\"m0 0 100 30L0 60z\"/>\n",
    "\t\t</clipPath>\n",
    "\t\t<clipPath id=\"b\">\n",
    "\t\t\t<path d=\"m0 0 50 30L0 60z\"/>\n",
    "\t\t</clipPath>\n",
    "\t</defs>\n",
    "\t<path fill=\"#009e49\" d=\"m0 0h100v60H0z\"/>\n",
    "\t<path clip-path=\"url(#w)\" fill=\"#fcd116\" stroke=\"#fff\" stroke-width=\"4\" d=\"m0 0 100 30L0 60\"/>\n",
    "\t<path clip-path=\"url(#b)\" fill=\"#ce1126\" stroke=\"#000\" stroke-width=\"6\" d=\"m0 0 50 30L0 60\"/>\n",
    "</svg>\n",
    "\n"
   ]
  },
  {
   "cell_type": "code",
   "execution_count": null,
   "metadata": {},
   "outputs": [],
   "source": [
    "lst = input(\"Список чисел: \").split()\n",
    "\n",
    "sorted_num= sorted(lst)\n",
    "\n",
    "mid_index = len(sorted_num) // 2\n",
    "\n",
    "if len(sorted_num) % 2 == 0:\n",
    "    mid_element = (sorted_num[mid_index - 1], sorted_num[mid_index])\n",
    "else:\n",
    "    mid_element = sorted_num[mid_index]\n",
    "\n",
    "print( mid_element, \" - це середина відсортованого списку\")"
   ]
  }
 ],
 "metadata": {
  "kernelspec": {
   "display_name": "Python 3",
   "language": "python",
   "name": "python3"
  },
  "language_info": {
   "codemirror_mode": {
    "name": "ipython",
    "version": 3
   },
   "file_extension": ".py",
   "mimetype": "text/x-python",
   "name": "python",
   "nbconvert_exporter": "python",
   "pygments_lexer": "ipython3",
   "version": "3.11.8"
  }
 },
 "nbformat": 4,
 "nbformat_minor": 2
}
